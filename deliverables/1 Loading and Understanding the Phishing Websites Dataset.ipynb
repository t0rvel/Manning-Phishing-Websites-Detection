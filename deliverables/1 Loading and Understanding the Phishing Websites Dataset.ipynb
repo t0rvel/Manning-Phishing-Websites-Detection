{
 "cells": [
  {
   "cell_type": "code",
   "execution_count": 1,
   "metadata": {
    "collapsed": true
   },
   "outputs": [
    {
     "data": {
      "text/plain": "   having_IP_Address  URL_Length  Shortining_Service  having_At_Symbol  \\\n0                 -1           1                   1                 1   \n1                  1           1                   1                 1   \n2                  1           0                   1                 1   \n3                  1           0                   1                 1   \n4                  1           0                  -1                 1   \n5                 -1           0                  -1                 1   \n6                  1           0                  -1                 1   \n7                  1           0                   1                 1   \n8                  1           0                  -1                 1   \n9                  1           1                  -1                 1   \n\n   double_slash_redirecting  Prefix_Suffix  having_Sub_Domain  SSLfinal_State  \\\n0                        -1             -1                 -1              -1   \n1                         1             -1                  0               1   \n2                         1             -1                 -1              -1   \n3                         1             -1                 -1              -1   \n4                         1             -1                  1               1   \n5                        -1             -1                  1               1   \n6                         1             -1                 -1              -1   \n7                         1             -1                 -1              -1   \n8                         1             -1                  1               1   \n9                         1             -1                 -1               1   \n\n   Domain_registeration_length  Favicon  ...  popUpWidnow  Iframe  \\\n0                           -1        1  ...            1       1   \n1                           -1        1  ...            1       1   \n2                           -1        1  ...            1       1   \n3                            1        1  ...            1       1   \n4                           -1        1  ...           -1       1   \n5                           -1        1  ...            1       1   \n6                            1        1  ...            1       1   \n7                            1        1  ...            1       1   \n8                           -1        1  ...            1       1   \n9                           -1        1  ...            1       1   \n\n   age_of_domain  DNSRecord  web_traffic  Page_Rank  Google_Index  \\\n0             -1         -1           -1         -1             1   \n1             -1         -1            0         -1             1   \n2              1         -1            1         -1             1   \n3             -1         -1            1         -1             1   \n4             -1         -1            0         -1             1   \n5              1          1            1         -1             1   \n6              1         -1           -1         -1             1   \n7             -1         -1            0         -1             1   \n8              1         -1            1          1             1   \n9              1         -1            0         -1             1   \n\n   Links_pointing_to_page  Statistical_report  Result  \n0                       1                  -1      -1  \n1                       1                   1      -1  \n2                       0                  -1      -1  \n3                      -1                   1      -1  \n4                       1                   1       1  \n5                      -1                  -1       1  \n6                       0                  -1      -1  \n7                       0                   1      -1  \n8                       0                   1       1  \n9                       0                   1      -1  \n\n[10 rows x 31 columns]",
      "text/html": "<div>\n<style scoped>\n    .dataframe tbody tr th:only-of-type {\n        vertical-align: middle;\n    }\n\n    .dataframe tbody tr th {\n        vertical-align: top;\n    }\n\n    .dataframe thead th {\n        text-align: right;\n    }\n</style>\n<table border=\"1\" class=\"dataframe\">\n  <thead>\n    <tr style=\"text-align: right;\">\n      <th></th>\n      <th>having_IP_Address</th>\n      <th>URL_Length</th>\n      <th>Shortining_Service</th>\n      <th>having_At_Symbol</th>\n      <th>double_slash_redirecting</th>\n      <th>Prefix_Suffix</th>\n      <th>having_Sub_Domain</th>\n      <th>SSLfinal_State</th>\n      <th>Domain_registeration_length</th>\n      <th>Favicon</th>\n      <th>...</th>\n      <th>popUpWidnow</th>\n      <th>Iframe</th>\n      <th>age_of_domain</th>\n      <th>DNSRecord</th>\n      <th>web_traffic</th>\n      <th>Page_Rank</th>\n      <th>Google_Index</th>\n      <th>Links_pointing_to_page</th>\n      <th>Statistical_report</th>\n      <th>Result</th>\n    </tr>\n  </thead>\n  <tbody>\n    <tr>\n      <th>0</th>\n      <td>-1</td>\n      <td>1</td>\n      <td>1</td>\n      <td>1</td>\n      <td>-1</td>\n      <td>-1</td>\n      <td>-1</td>\n      <td>-1</td>\n      <td>-1</td>\n      <td>1</td>\n      <td>...</td>\n      <td>1</td>\n      <td>1</td>\n      <td>-1</td>\n      <td>-1</td>\n      <td>-1</td>\n      <td>-1</td>\n      <td>1</td>\n      <td>1</td>\n      <td>-1</td>\n      <td>-1</td>\n    </tr>\n    <tr>\n      <th>1</th>\n      <td>1</td>\n      <td>1</td>\n      <td>1</td>\n      <td>1</td>\n      <td>1</td>\n      <td>-1</td>\n      <td>0</td>\n      <td>1</td>\n      <td>-1</td>\n      <td>1</td>\n      <td>...</td>\n      <td>1</td>\n      <td>1</td>\n      <td>-1</td>\n      <td>-1</td>\n      <td>0</td>\n      <td>-1</td>\n      <td>1</td>\n      <td>1</td>\n      <td>1</td>\n      <td>-1</td>\n    </tr>\n    <tr>\n      <th>2</th>\n      <td>1</td>\n      <td>0</td>\n      <td>1</td>\n      <td>1</td>\n      <td>1</td>\n      <td>-1</td>\n      <td>-1</td>\n      <td>-1</td>\n      <td>-1</td>\n      <td>1</td>\n      <td>...</td>\n      <td>1</td>\n      <td>1</td>\n      <td>1</td>\n      <td>-1</td>\n      <td>1</td>\n      <td>-1</td>\n      <td>1</td>\n      <td>0</td>\n      <td>-1</td>\n      <td>-1</td>\n    </tr>\n    <tr>\n      <th>3</th>\n      <td>1</td>\n      <td>0</td>\n      <td>1</td>\n      <td>1</td>\n      <td>1</td>\n      <td>-1</td>\n      <td>-1</td>\n      <td>-1</td>\n      <td>1</td>\n      <td>1</td>\n      <td>...</td>\n      <td>1</td>\n      <td>1</td>\n      <td>-1</td>\n      <td>-1</td>\n      <td>1</td>\n      <td>-1</td>\n      <td>1</td>\n      <td>-1</td>\n      <td>1</td>\n      <td>-1</td>\n    </tr>\n    <tr>\n      <th>4</th>\n      <td>1</td>\n      <td>0</td>\n      <td>-1</td>\n      <td>1</td>\n      <td>1</td>\n      <td>-1</td>\n      <td>1</td>\n      <td>1</td>\n      <td>-1</td>\n      <td>1</td>\n      <td>...</td>\n      <td>-1</td>\n      <td>1</td>\n      <td>-1</td>\n      <td>-1</td>\n      <td>0</td>\n      <td>-1</td>\n      <td>1</td>\n      <td>1</td>\n      <td>1</td>\n      <td>1</td>\n    </tr>\n    <tr>\n      <th>5</th>\n      <td>-1</td>\n      <td>0</td>\n      <td>-1</td>\n      <td>1</td>\n      <td>-1</td>\n      <td>-1</td>\n      <td>1</td>\n      <td>1</td>\n      <td>-1</td>\n      <td>1</td>\n      <td>...</td>\n      <td>1</td>\n      <td>1</td>\n      <td>1</td>\n      <td>1</td>\n      <td>1</td>\n      <td>-1</td>\n      <td>1</td>\n      <td>-1</td>\n      <td>-1</td>\n      <td>1</td>\n    </tr>\n    <tr>\n      <th>6</th>\n      <td>1</td>\n      <td>0</td>\n      <td>-1</td>\n      <td>1</td>\n      <td>1</td>\n      <td>-1</td>\n      <td>-1</td>\n      <td>-1</td>\n      <td>1</td>\n      <td>1</td>\n      <td>...</td>\n      <td>1</td>\n      <td>1</td>\n      <td>1</td>\n      <td>-1</td>\n      <td>-1</td>\n      <td>-1</td>\n      <td>1</td>\n      <td>0</td>\n      <td>-1</td>\n      <td>-1</td>\n    </tr>\n    <tr>\n      <th>7</th>\n      <td>1</td>\n      <td>0</td>\n      <td>1</td>\n      <td>1</td>\n      <td>1</td>\n      <td>-1</td>\n      <td>-1</td>\n      <td>-1</td>\n      <td>1</td>\n      <td>1</td>\n      <td>...</td>\n      <td>1</td>\n      <td>1</td>\n      <td>-1</td>\n      <td>-1</td>\n      <td>0</td>\n      <td>-1</td>\n      <td>1</td>\n      <td>0</td>\n      <td>1</td>\n      <td>-1</td>\n    </tr>\n    <tr>\n      <th>8</th>\n      <td>1</td>\n      <td>0</td>\n      <td>-1</td>\n      <td>1</td>\n      <td>1</td>\n      <td>-1</td>\n      <td>1</td>\n      <td>1</td>\n      <td>-1</td>\n      <td>1</td>\n      <td>...</td>\n      <td>1</td>\n      <td>1</td>\n      <td>1</td>\n      <td>-1</td>\n      <td>1</td>\n      <td>1</td>\n      <td>1</td>\n      <td>0</td>\n      <td>1</td>\n      <td>1</td>\n    </tr>\n    <tr>\n      <th>9</th>\n      <td>1</td>\n      <td>1</td>\n      <td>-1</td>\n      <td>1</td>\n      <td>1</td>\n      <td>-1</td>\n      <td>-1</td>\n      <td>1</td>\n      <td>-1</td>\n      <td>1</td>\n      <td>...</td>\n      <td>1</td>\n      <td>1</td>\n      <td>1</td>\n      <td>-1</td>\n      <td>0</td>\n      <td>-1</td>\n      <td>1</td>\n      <td>0</td>\n      <td>1</td>\n      <td>-1</td>\n    </tr>\n  </tbody>\n</table>\n<p>10 rows × 31 columns</p>\n</div>"
     },
     "execution_count": 1,
     "metadata": {},
     "output_type": "execute_result"
    }
   ],
   "source": [
    "import pandas as pd\n",
    "import numpy as np\n",
    "import os\n",
    "\n",
    "# Fix the random seed\n",
    "np.random.seed(9)\n",
    "\n",
    "rawpath = os.getcwd()\n",
    "file = \"Phishing.csv\"\n",
    "path = os.path.abspath(os.path.join(rawpath, '..', 'data')) + \"\\\\\"\n",
    "\n",
    "phishing_dataframe = pd.read_csv(path+file)\n",
    "phishing_dataframe.head(10)"
   ]
  },
  {
   "cell_type": "code",
   "execution_count": 2,
   "outputs": [
    {
     "data": {
      "text/plain": "(11055, 31)"
     },
     "execution_count": 2,
     "metadata": {},
     "output_type": "execute_result"
    }
   ],
   "source": [
    "phishing_dataframe.shape"
   ],
   "metadata": {
    "collapsed": false,
    "pycharm": {
     "name": "#%%\n"
    }
   }
  },
  {
   "cell_type": "code",
   "execution_count": 3,
   "outputs": [
    {
     "data": {
      "text/plain": "Index(['having_IP_Address', 'URL_Length', 'Shortining_Service',\n       'having_At_Symbol', 'double_slash_redirecting', 'Prefix_Suffix',\n       'having_Sub_Domain', 'SSLfinal_State', 'Domain_registeration_length',\n       'Favicon', 'port', 'HTTPS_token', 'Request_URL', 'URL_of_Anchor',\n       'Links_in_tags', 'SFH', 'Submitting_to_email', 'Abnormal_URL',\n       'Redirect', 'on_mouseover', 'RightClick', 'popUpWidnow', 'Iframe',\n       'age_of_domain', 'DNSRecord', 'web_traffic', 'Page_Rank',\n       'Google_Index', 'Links_pointing_to_page', 'Statistical_report',\n       'Result'],\n      dtype='object')"
     },
     "execution_count": 3,
     "metadata": {},
     "output_type": "execute_result"
    }
   ],
   "source": [
    "phishing_dataframe.columns"
   ],
   "metadata": {
    "collapsed": false,
    "pycharm": {
     "name": "#%%\n"
    }
   }
  },
  {
   "cell_type": "code",
   "execution_count": 4,
   "outputs": [
    {
     "data": {
      "text/plain": "array([-1,  1], dtype=int64)"
     },
     "execution_count": 4,
     "metadata": {},
     "output_type": "execute_result"
    }
   ],
   "source": [
    "phishing_dataframe[\"Result\"].unique()\n"
   ],
   "metadata": {
    "collapsed": false,
    "pycharm": {
     "name": "#%%\n"
    }
   }
  }
 ],
 "metadata": {
  "kernelspec": {
   "display_name": "Python 3",
   "language": "python",
   "name": "python3"
  },
  "language_info": {
   "codemirror_mode": {
    "name": "ipython",
    "version": 2
   },
   "file_extension": ".py",
   "mimetype": "text/x-python",
   "name": "python",
   "nbconvert_exporter": "python",
   "pygments_lexer": "ipython2",
   "version": "2.7.6"
  }
 },
 "nbformat": 4,
 "nbformat_minor": 0
}